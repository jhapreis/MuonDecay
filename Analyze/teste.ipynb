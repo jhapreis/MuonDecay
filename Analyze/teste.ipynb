{
 "cells": [
  {
   "cell_type": "code",
   "execution_count": 1,
   "metadata": {},
   "outputs": [
    {
     "name": "stdout",
     "output_type": "stream",
     "text": [
      "Welcome to JupyROOT 6.24/02\n"
     ]
    }
   ],
   "source": [
    "import ROOT as root\n",
    "\n",
    "import matplotlib.pyplot as plt\n",
    "\n",
    "import os\n",
    "\n",
    "import seaborn as sns\n",
    "\n",
    "import numpy as np\n",
    "\n",
    "import pandas as pd\n",
    "\n",
    "from scipy.signal import find_peaks\n",
    "\n",
    "from scipy.optimize import curve_fit\n",
    "\n",
    "from array import array"
   ]
  },
  {
   "cell_type": "code",
   "execution_count": 2,
   "metadata": {},
   "outputs": [],
   "source": [
    "from modules.convert_values import ConvertMiliVoltsToUnits_ScopeParameters, Convert_WaveformToMiliVolts_ScopeParameters, Convert_TimeToMicroSec\n",
    "\n",
    "from modules.read_output_file import Get_AcquisitionParameters\n",
    "\n",
    "from modules.find_peaks import FindPeaks_Waveform, Integral_Waveform\n",
    "\n",
    "from modules.fit_muon_decay import A_ExpX_C, NumberBins_Sturge\n",
    "\n",
    "from modules.delete_files import delete_root_files_in_folder"
   ]
  },
  {
   "cell_type": "code",
   "execution_count": 3,
   "metadata": {},
   "outputs": [],
   "source": [
    "folder      = '../data/20220405_112457'\n",
    "\n",
    "output_file = 'output.txt'\n",
    "\n",
    "tree_name   = 'tree_waveforms'\n",
    "\n",
    "delete_root_files_in_folder(folder, tree_name)\n",
    "\n",
    "root_files  = [i for i in os.listdir(folder) if i.endswith(\".root\")]"
   ]
  },
  {
   "cell_type": "code",
   "execution_count": 4,
   "metadata": {},
   "outputs": [],
   "source": [
    "df_output = Get_AcquisitionParameters(folder+'/'+output_file)"
   ]
  },
  {
   "cell_type": "code",
   "execution_count": 5,
   "metadata": {},
   "outputs": [
    {
     "name": "stdout",
     "output_type": "stream",
     "text": [
      "\n",
      "Adding files\n",
      "...   done\n"
     ]
    }
   ],
   "source": [
    "\"\"\"\n",
    "Add ROOT files to TChain\n",
    "\n",
    "    Read the entire folder and add data to the TChain\n",
    "\"\"\"\n",
    "#----------------------------------------------------------------------------------------------------\n",
    "chain = root.TChain(tree_name)\n",
    "\n",
    "print('\\nAdding files')\n",
    "\n",
    "for i in range( len(root_files) ): #len(root_files)\n",
    "    \n",
    "    file = folder+'/'+root_files[i]\n",
    "    \n",
    "    chain.Add(file)  \n",
    "\n",
    "print('...   done')"
   ]
  },
  {
   "cell_type": "code",
   "execution_count": 6,
   "metadata": {},
   "outputs": [
    {
     "name": "stdout",
     "output_type": "stream",
     "text": [
      "\n",
      "Number of entries: 5434\n"
     ]
    }
   ],
   "source": [
    "\"\"\"\n",
    "Assign array to be filled with the .root file data\n",
    "\"\"\"\n",
    "#----------------------------------------------------------------------------------------------------\n",
    "waveform_in_units = array('i', [0]*2500)\n",
    "\n",
    "chain.SetBranchAddress(\"waveforms\", waveform_in_units)\n",
    "\n",
    "entries = chain.GetEntries()\n",
    "\n",
    "print(f'\\nNumber of entries: {entries}')\n",
    "\n",
    "trigger_in_mv    = 1000*df_output['trigger_main_level'][0]\n",
    "\n",
    "trigger_in_units = ConvertMiliVoltsToUnits_ScopeParameters(\n",
    "    \n",
    "    y_mv=trigger_in_mv,\n",
    "    \n",
    "    y_zero=df_output['y_zero'][0],\n",
    "    \n",
    "    y_off=df_output['y_off'][0],\n",
    "    \n",
    "    y_mult=df_output['y_mult'][0]\n",
    ")"
   ]
  },
  {
   "cell_type": "code",
   "execution_count": 7,
   "metadata": {},
   "outputs": [],
   "source": [
    "chain.GetEntry(10)\n",
    "\n",
    "wav_mv = Convert_WaveformToMiliVolts_ScopeParameters(\n",
    "    \n",
    "    waveform_in_units=waveform_in_units,\n",
    "    \n",
    "    y_zero=df_output['y_zero'][0],\n",
    "    \n",
    "    y_off=df_output['y_off'][0],\n",
    "    \n",
    "    y_mult=df_output['y_mult'][0]\n",
    ")"
   ]
  },
  {
   "cell_type": "code",
   "execution_count": 8,
   "metadata": {},
   "outputs": [
    {
     "data": {
      "text/plain": [
       "228.5"
      ]
     },
     "execution_count": 8,
     "metadata": {},
     "output_type": "execute_result"
    }
   ],
   "source": [
    "trigger_in_units"
   ]
  },
  {
   "cell_type": "code",
   "execution_count": null,
   "metadata": {},
   "outputs": [],
   "source": []
  },
  {
   "cell_type": "code",
   "execution_count": 9,
   "metadata": {},
   "outputs": [
    {
     "name": "stdout",
     "output_type": "stream",
     "text": [
      "Error on FindPeaks: 31\n"
     ]
    }
   ],
   "source": [
    "height  = 230\n",
    "\n",
    "errors  = []\n",
    "\n",
    "peaks_x_coordinate = []\n",
    "\n",
    "peaks_y_coordinate = []\n",
    "\n",
    "\n",
    "for i in range(entries):\n",
    "    \n",
    "    \n",
    "    chain.GetEntry(i)\n",
    "\n",
    "    x_peaks = FindPeaks_Waveform(\n",
    "            waveform_in_units, \n",
    "            height,\n",
    "            30,\n",
    "            2\n",
    "            )\n",
    "    \n",
    "    if x_peaks[0] == -1:\n",
    "        \n",
    "        errors.append([i, x_peaks[1]])\n",
    "        \n",
    "        continue\n",
    "    \n",
    "    y_peaks = [\n",
    "        -1*waveform_in_units[ x_peaks[0] ], \n",
    "        -1*waveform_in_units[ x_peaks[1] ]\n",
    "        ]\n",
    "    \n",
    "    \n",
    "    peaks_x_coordinate.append(x_peaks)\n",
    "    \n",
    "    peaks_y_coordinate.append(y_peaks)\n",
    "\n",
    "\n",
    "df_errors = pd.DataFrame(errors, columns=['index', 'n_peaks'])\n",
    "\n",
    "print(f'Error on FindPeaks: {len(errors)}')"
   ]
  },
  {
   "cell_type": "code",
   "execution_count": 10,
   "metadata": {},
   "outputs": [
    {
     "name": "stdout",
     "output_type": "stream",
     "text": [
      "[2659, 3]\n"
     ]
    },
    {
     "data": {
      "text/plain": [
       "[<matplotlib.lines.Line2D at 0x7fa66e0a8d00>]"
      ]
     },
     "execution_count": 10,
     "metadata": {},
     "output_type": "execute_result"
    },
    {
     "data": {
      "image/png": "[encoded data removed]",
      "text/plain": [
       "<Figure size 432x288 with 1 Axes>"
      ]
     },
     "metadata": {
      "needs_background": "light"
     },
     "output_type": "display_data"
    }
   ],
   "source": [
    "i = 14\n",
    "\n",
    "print(errors[i])\n",
    "\n",
    "chain.GetEntry(errors[i][0])\n",
    "\n",
    "plt.axhline(y=height, color='red', linestyle='-')\n",
    "\n",
    "plt.plot( waveform_in_units[:] )"
   ]
  },
  {
   "cell_type": "code",
   "execution_count": 11,
   "metadata": {},
   "outputs": [
    {
     "data": {
      "text/plain": [
       "5403"
      ]
     },
     "execution_count": 11,
     "metadata": {},
     "output_type": "execute_result"
    }
   ],
   "source": [
    "len(peaks_x_coordinate)"
   ]
  },
  {
   "cell_type": "code",
   "execution_count": 12,
   "metadata": {},
   "outputs": [],
   "source": [
    "time_diff = []\n",
    "\n",
    "for i in range(len(peaks_x_coordinate)):\n",
    "    \n",
    "    time_diff.append(   peaks_x_coordinate[i][1] - peaks_x_coordinate[i][0]   )\n",
    "\n",
    "time_diff = pd.DataFrame(time_diff, columns=['delta_t'])"
   ]
  },
  {
   "cell_type": "code",
   "execution_count": 13,
   "metadata": {},
   "outputs": [
    {
     "data": {
      "text/plain": [
       "<AxesSubplot:ylabel='Count'>"
      ]
     },
     "execution_count": 13,
     "metadata": {},
     "output_type": "execute_result"
    },
    {
     "data": {
      "image/png": "[encoded data removed]",
      "text/plain": [
       "<Figure size 432x288 with 1 Axes>"
      ]
     },
     "metadata": {
      "needs_background": "light"
     },
     "output_type": "display_data"
    }
   ],
   "source": [
    "sns.histplot(time_diff, bins=80)"
   ]
  },
  {
   "cell_type": "code",
   "execution_count": 92,
   "metadata": {},
   "outputs": [],
   "source": [
    "hist, bin_edges = np.histogram(time_diff, bins=45)\n",
    "\n",
    "bin_diff     = bin_edges[1] - bin_edges[0]\n",
    "\n",
    "bins_centers = [   (bin_edges[i] + bin_diff/2) for i in range (len(hist)) ]\n"
   ]
  },
  {
   "cell_type": "code",
   "execution_count": 133,
   "metadata": {},
   "outputs": [],
   "source": [
    "xdata = [ Convert_TimeToMicroSec(bins, df_output['horizontal_main_scale'][0]) for bins in (bins_centers[:]) ]\n",
    "\n",
    "ydata = hist[:]"
   ]
  },
  {
   "cell_type": "code",
   "execution_count": 96,
   "metadata": {},
   "outputs": [],
   "source": [
    "popt, pcov = curve_fit(A_ExpX_C, xdata, ydata, p0=[100, 2, 5])"
   ]
  },
  {
   "cell_type": "code",
   "execution_count": 97,
   "metadata": {},
   "outputs": [
    {
     "name": "stdout",
     "output_type": "stream",
     "text": [
      "Coeficientes:\n",
      "[153.67866779   1.33730695  97.41364538]\n",
      "\n",
      "\n",
      "Covariancia:\n",
      "[[ 1.72804228e+02 -1.52193642e+00  3.73173633e-01]\n",
      " [-1.52193642e+00  4.34678854e-02 -5.13869232e-01]\n",
      " [ 3.73173633e-01 -5.13869232e-01  1.47920434e+01]]\n"
     ]
    }
   ],
   "source": [
    "print(f'Coeficientes:\\n{popt}\\n\\n')\n",
    "\n",
    "print(f'Covariancia:\\n{pcov}')"
   ]
  },
  {
   "cell_type": "code",
   "execution_count": 98,
   "metadata": {},
   "outputs": [
    {
     "data": {
      "text/plain": [
       "[<matplotlib.lines.Line2D at 0x7fa668ae1730>]"
      ]
     },
     "execution_count": 98,
     "metadata": {},
     "output_type": "execute_result"
    },
    {
     "data": {
      "image/png": "[encoded data removed]",
      "text/plain": [
       "<Figure size 432x288 with 1 Axes>"
      ]
     },
     "metadata": {
      "needs_background": "light"
     },
     "output_type": "display_data"
    }
   ],
   "source": [
    "plt.scatter(xdata, ydata, color='black')\n",
    "\n",
    "x = np.linspace(0, 10, 100_000)\n",
    "\n",
    "y = A_ExpX_C(x, *popt)\n",
    "\n",
    "plt.plot(x, y, color='orange')"
   ]
  },
  {
   "cell_type": "code",
   "execution_count": null,
   "metadata": {},
   "outputs": [],
   "source": []
  }
 ],
 "metadata": {
  "interpreter": {
   "hash": "916dbcbb3f70747c44a77c7bcd40155683ae19c65e1c03b4aa3499c5328201f1"
  },
  "kernelspec": {
   "display_name": "Python 3.8.10 64-bit",
   "language": "python",
   "name": "python3"
  },
  "language_info": {
   "codemirror_mode": {
    "name": "ipython",
    "version": 3
   },
   "file_extension": ".py",
   "mimetype": "text/x-python",
   "name": "python",
   "nbconvert_exporter": "python",
   "pygments_lexer": "ipython3",
   "version": "3.8.10"
  },
  "orig_nbformat": 4
 },
 "nbformat": 4,
 "nbformat_minor": 2
}
