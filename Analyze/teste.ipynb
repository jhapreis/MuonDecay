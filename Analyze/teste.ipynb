{
 "cells": [
  {
   "cell_type": "code",
   "execution_count": 1,
   "metadata": {},
   "outputs": [
    {
     "name": "stdout",
     "output_type": "stream",
     "text": [
      "Welcome to JupyROOT 6.26/02\n"
     ]
    }
   ],
   "source": [
    "import ROOT as root\n",
    "\n",
    "from array import array\n",
    "\n",
    "import matplotlib.pyplot as plt\n",
    "\n",
    "import pandas as pd\n",
    "\n",
    "import seaborn as sns\n",
    "\n",
    "import sys\n",
    "\n",
    "from modules.fit.muondecay_analysis import MuonDecay_Analysis\n",
    "\n",
    "from modules.fit.muondecay_fit import MuonDecay_Fit"
   ]
  },
  {
   "cell_type": "code",
   "execution_count": 2,
   "metadata": {},
   "outputs": [],
   "source": [
    "folder = '../data/20220428_192049/'"
   ]
  },
  {
   "cell_type": "code",
   "execution_count": 3,
   "metadata": {},
   "outputs": [],
   "source": [
    "branches = [\n",
    "            'x_peak_0',\n",
    "            'x_peak_1',\n",
    "            'y_peak_0',\n",
    "            'y_peak_1',\n",
    "            'integral_0',\n",
    "            'integral_1'\n",
    "        ]\n",
    "\n",
    "x_labels = [\n",
    "    'x_peak_0 (micro-sec)',\n",
    "    'x_peak_1 (micro-sec)',\n",
    "    'y_peak_0 (mV)',\n",
    "    'y_peak_1 (mV)',\n",
    "    'integrals_0 ()',\n",
    "    'integrals_1 ()'\n",
    "]"
   ]
  },
  {
   "cell_type": "code",
   "execution_count": 4,
   "metadata": {},
   "outputs": [],
   "source": [
    "i = 0"
   ]
  },
  {
   "cell_type": "code",
   "execution_count": 5,
   "metadata": {},
   "outputs": [],
   "source": [
    "root_file_path = f'{folder}muondecay/results/results.root'\n",
    "results_path   = f'{folder}muondecay/results'\n",
    "tree_name      = 'results'\n",
    "branch_name    = branches[i]\n",
    "x_label        = x_labels[i]\n",
    "y_label        = 'counts'\n",
    "numberbins     = 50"
   ]
  },
  {
   "cell_type": "code",
   "execution_count": 6,
   "metadata": {},
   "outputs": [
    {
     "data": {
      "text/plain": [
       "4"
      ]
     },
     "execution_count": 6,
     "metadata": {},
     "output_type": "execute_result"
    }
   ],
   "source": [
    "file = root.TFile.Open(root_file_path)\n",
    "\n",
    "tree = file.Get(tree_name)\n",
    "\n",
    "branch_var = array('f', [0])\n",
    "\n",
    "tree.SetBranchAddress(branch_name, branch_var)"
   ]
  },
  {
   "cell_type": "code",
   "execution_count": 7,
   "metadata": {},
   "outputs": [],
   "source": [
    "#----------------------------------------------------------------------------------------------------\n",
    "values = []\n",
    "\n",
    "for _ in range(tree.GetEntries()):\n",
    "\n",
    "    tree.GetEntry(_)\n",
    "\n",
    "    values.append(branch_var[0])\n",
    "\n",
    "values = pd.DataFrame(values, columns=[branch_name])"
   ]
  },
  {
   "cell_type": "code",
   "execution_count": 8,
   "metadata": {},
   "outputs": [
    {
     "data": {
      "text/html": [
       "<div>\n",
       "<style scoped>\n",
       "    .dataframe tbody tr th:only-of-type {\n",
       "        vertical-align: middle;\n",
       "    }\n",
       "\n",
       "    .dataframe tbody tr th {\n",
       "        vertical-align: top;\n",
       "    }\n",
       "\n",
       "    .dataframe thead th {\n",
       "        text-align: right;\n",
       "    }\n",
       "</style>\n",
       "<table border=\"1\" class=\"dataframe\">\n",
       "  <thead>\n",
       "    <tr style=\"text-align: right;\">\n",
       "      <th></th>\n",
       "      <th>x_peak_0</th>\n",
       "    </tr>\n",
       "  </thead>\n",
       "  <tbody>\n",
       "    <tr>\n",
       "      <th>0</th>\n",
       "      <td>1.020</td>\n",
       "    </tr>\n",
       "    <tr>\n",
       "      <th>1</th>\n",
       "      <td>1.020</td>\n",
       "    </tr>\n",
       "    <tr>\n",
       "      <th>2</th>\n",
       "      <td>1.016</td>\n",
       "    </tr>\n",
       "    <tr>\n",
       "      <th>3</th>\n",
       "      <td>1.016</td>\n",
       "    </tr>\n",
       "    <tr>\n",
       "      <th>4</th>\n",
       "      <td>1.016</td>\n",
       "    </tr>\n",
       "    <tr>\n",
       "      <th>...</th>\n",
       "      <td>...</td>\n",
       "    </tr>\n",
       "    <tr>\n",
       "      <th>3919</th>\n",
       "      <td>1.016</td>\n",
       "    </tr>\n",
       "    <tr>\n",
       "      <th>3920</th>\n",
       "      <td>1.016</td>\n",
       "    </tr>\n",
       "    <tr>\n",
       "      <th>3921</th>\n",
       "      <td>1.016</td>\n",
       "    </tr>\n",
       "    <tr>\n",
       "      <th>3922</th>\n",
       "      <td>1.016</td>\n",
       "    </tr>\n",
       "    <tr>\n",
       "      <th>3923</th>\n",
       "      <td>1.016</td>\n",
       "    </tr>\n",
       "  </tbody>\n",
       "</table>\n",
       "<p>3924 rows × 1 columns</p>\n",
       "</div>"
      ],
      "text/plain": [
       "      x_peak_0\n",
       "0        1.020\n",
       "1        1.020\n",
       "2        1.016\n",
       "3        1.016\n",
       "4        1.016\n",
       "...        ...\n",
       "3919     1.016\n",
       "3920     1.016\n",
       "3921     1.016\n",
       "3922     1.016\n",
       "3923     1.016\n",
       "\n",
       "[3924 rows x 1 columns]"
      ]
     },
     "execution_count": 8,
     "metadata": {},
     "output_type": "execute_result"
    }
   ],
   "source": [
    "values"
   ]
  },
  {
   "cell_type": "code",
   "execution_count": 9,
   "metadata": {},
   "outputs": [
    {
     "data": {
      "text/plain": [
       "Text(0, 0.5, 'counts')"
      ]
     },
     "execution_count": 9,
     "metadata": {},
     "output_type": "execute_result"
    },
    {
     "data": {
      "image/png": "[encoded data removed]",
      "text/plain": [
       "<Figure size 432x288 with 1 Axes>"
      ]
     },
     "metadata": {
      "needs_background": "light"
     },
     "output_type": "display_data"
    }
   ],
   "source": [
    "sns.histplot(\n",
    "        data   = values,\n",
    "        bins   = 50,\n",
    "        color  = 'k',\n",
    "        fill   = True,\n",
    "        element = 'step'\n",
    "        )\n",
    "    \n",
    "\n",
    "\n",
    "plt.xlabel(x_label)\n",
    "\n",
    "plt.ylabel(y_label)"
   ]
  },
  {
   "cell_type": "code",
   "execution_count": 10,
   "metadata": {},
   "outputs": [],
   "source": [
    "def Graph_Results(\n",
    "\n",
    "    root_file_path:   \"str\" = './results.root',\n",
    "\n",
    "    results_path:     \"str\" = './results',\n",
    "\n",
    "    tree_name:        \"str\" = 'results',\n",
    "\n",
    "    branch_name:      \"str\" = 'y_peak_0',\n",
    "\n",
    "    x_label:          \"str\" = 'xlabel',\n",
    "\n",
    "    y_label:          \"str\" = 'ylabel',\n",
    "\n",
    "    numberbins:       \"int\" = 50\n",
    "\n",
    "    ) -> \"int\":\n",
    "\n",
    "\n",
    "    #----------------------------------------------------------------------------------------------------\n",
    "    file = root.TFile.Open(root_file_path)\n",
    "\n",
    "    tree = file.Get(tree_name)\n",
    "\n",
    "    branch_var = array('f', [0])\n",
    "\n",
    "    tree.SetBranchAddress(branch_name, branch_var)\n",
    "\n",
    "\n",
    "    #----------------------------------------------------------------------------------------------------\n",
    "    values = []\n",
    "\n",
    "    for _ in range(tree.GetEntries()):\n",
    "\n",
    "        tree.GetEntry(_)\n",
    "\n",
    "        values.append(branch_var[0])\n",
    "\n",
    "    values = pd.DataFrame(values, columns=[branch_name])\n",
    "\n",
    "\n",
    "    #----------------------------------------------------------------------------------------------------\n",
    "    sns.histplot(\n",
    "        data   = values,\n",
    "        bins   = numberbins,\n",
    "        color  = 'k',\n",
    "        fill   = False,\n",
    "        element = 'step'\n",
    "\n",
    "        )\n",
    "\n",
    "    plt.xlabel(x_label)\n",
    "\n",
    "    plt.ylabel(y_label)\n",
    "\n",
    "    plt.savefig(f\"{results_path}/{branch_name}.jpeg\", dpi=150)\n",
    "\n",
    "    file.Close()\n",
    "\n",
    "    return 0"
   ]
  },
  {
   "cell_type": "code",
   "execution_count": 19,
   "metadata": {},
   "outputs": [
    {
     "data": {
      "image/png": "[encoded data removed]",
      "text/plain": [
       "<Figure size 432x288 with 1 Axes>"
      ]
     },
     "metadata": {
      "needs_background": "light"
     },
     "output_type": "display_data"
    }
   ],
   "source": [
    "for i in range(len(branches)):\n",
    "\n",
    "    Graph_Results(\n",
    "                root_file_path = f'{folder}/muondecay/results/results.root',\n",
    "                results_path   = f'{folder}/muondecay/results',\n",
    "                tree_name      = 'results',\n",
    "                branch_name    = branches[i],\n",
    "                x_label        = x_labels[i],\n",
    "                y_label        = 'counts',\n",
    "                numberbins     = 50\n",
    "                )"
   ]
  },
  {
   "cell_type": "code",
   "execution_count": 12,
   "metadata": {},
   "outputs": [
    {
     "data": {
      "text/plain": [
       "0"
      ]
     },
     "execution_count": 12,
     "metadata": {},
     "output_type": "execute_result"
    }
   ],
   "source": [
    "i"
   ]
  },
  {
   "cell_type": "code",
   "execution_count": null,
   "metadata": {},
   "outputs": [],
   "source": []
  }
 ],
 "metadata": {
  "interpreter": {
   "hash": "916dbcbb3f70747c44a77c7bcd40155683ae19c65e1c03b4aa3499c5328201f1"
  },
  "kernelspec": {
   "display_name": "Python 3.8.10 64-bit",
   "language": "python",
   "name": "python3"
  },
  "language_info": {
   "codemirror_mode": {
    "name": "ipython",
    "version": 3
   },
   "file_extension": ".py",
   "mimetype": "text/x-python",
   "name": "python",
   "nbconvert_exporter": "python",
   "pygments_lexer": "ipython3",
   "version": "3.8.10"
  },
  "orig_nbformat": 4
 },
 "nbformat": 4,
 "nbformat_minor": 2
}
